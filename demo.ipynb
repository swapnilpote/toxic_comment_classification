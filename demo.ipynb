{
 "cells": [
  {
   "cell_type": "code",
   "execution_count": 14,
   "metadata": {},
   "outputs": [],
   "source": [
    "import ner_model"
   ]
  },
  {
   "cell_type": "code",
   "execution_count": 18,
   "metadata": {},
   "outputs": [],
   "source": [
    "from nltk import word_tokenize, pos_tag, ne_chunk\n",
    "from nltk.chunk import conlltags2tree, tree2conlltags"
   ]
  },
  {
   "cell_type": "code",
   "execution_count": 17,
   "metadata": {},
   "outputs": [],
   "source": [
    "def extract_items(sentence):\n",
    "\n",
    "\t# sentence = \"Book a train from Delhi to 26/11/2018 Indore via Banglore.\"\n",
    "\tne_tree = ne_chunk(pos_tag(word_tokenize(sentence)))\n",
    "\tiob_tagged = tree2conlltags(ne_tree)\n",
    "\t# ne_tree = conlltags2tree(iob_tagged)\n",
    "\n",
    "\textracted = {}\n",
    "\textracted['Locations'] = []\n",
    "\textracted['Dates'] = []\n",
    "\textracted['Travel_type'] = []\n",
    "\n",
    "\tfor i in iob_tagged:\n",
    "\t\tif 'GPE' in i[2]:\n",
    "\t\t\textracted['Locations'].append(i[0])\n",
    "\n",
    "\t\tif i[1] == 'NN':\n",
    "\t\t\textracted['Travel_type'].append(i[0])\n",
    "\n",
    "\t\tif i[1] == 'CD':\n",
    "\t\t\textracted['Dates'].append(i[0])\n",
    "\n",
    "\t# for key, value in extracted.items():\n",
    "\t# \tprint(key + \" : \" + str(value) + '\\n')\n",
    "\treturn extracted"
   ]
  },
  {
   "cell_type": "code",
   "execution_count": 33,
   "metadata": {},
   "outputs": [],
   "source": [
    "sentence = \"Book me a flight from Raipur to Mumbai on 23/02/2018\""
   ]
  },
  {
   "cell_type": "code",
   "execution_count": 34,
   "metadata": {},
   "outputs": [
    {
     "data": {
      "text/plain": [
       "{'Dates': ['23/02/2018'],\n",
       " 'Locations': ['Raipur', 'Mumbai'],\n",
       " 'Travel_type': ['flight']}"
      ]
     },
     "execution_count": 34,
     "metadata": {},
     "output_type": "execute_result"
    }
   ],
   "source": [
    "extract_items(sentence)"
   ]
  },
  {
   "cell_type": "code",
   "execution_count": null,
   "metadata": {},
   "outputs": [],
   "source": []
  }
 ],
 "metadata": {
  "kernelspec": {
   "display_name": "Python 3",
   "language": "python",
   "name": "python3"
  },
  "language_info": {
   "codemirror_mode": {
    "name": "ipython",
    "version": 3
   },
   "file_extension": ".py",
   "mimetype": "text/x-python",
   "name": "python",
   "nbconvert_exporter": "python",
   "pygments_lexer": "ipython3",
   "version": "3.6.3"
  }
 },
 "nbformat": 4,
 "nbformat_minor": 2
}
